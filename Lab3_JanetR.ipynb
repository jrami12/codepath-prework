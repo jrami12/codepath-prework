{
  "cells": [
    {
      "cell_type": "markdown",
      "metadata": {
        "id": "view-in-github",
        "colab_type": "text"
      },
      "source": [
        "<a href=\"https://colab.research.google.com/github/jrami12/codepath-prework/blob/main/Lab3_JanetR.ipynb\" target=\"_parent\"><img src=\"https://colab.research.google.com/assets/colab-badge.svg\" alt=\"Open In Colab\"/></a>"
      ]
    },
    {
      "cell_type": "markdown",
      "metadata": {
        "id": "btlkLRZ9GFWz"
      },
      "source": [
        "# IS 4487 Lab 3\n",
        "\n",
        "## Outline\n",
        "\n",
        "Repeat exercises from Lab 2, but with the *SuperStore Retail Orders* dataset\n",
        "- Loading installed packages\n",
        "- Inspect data\n",
        "- Explore plot types\n",
        "\n",
        "<a href=\"https://colab.research.google.com/github/Stan-Pugsley/is_4487_base/blob/main/Labs/Scripts/lab3_retailer_intro.ipynb\" target=\"_parent\"><img src=\"https://colab.research.google.com/assets/colab-badge.svg\" alt=\"Open In Colab\"/></a>"
      ]
    },
    {
      "cell_type": "markdown",
      "metadata": {
        "id": "h3CMq13IGFW1"
      },
      "source": [
        "## Load Libraries\n",
        "\n",
        "➡️ Assignment Tasks\n",
        "- Load any necessary libraries"
      ]
    },
    {
      "cell_type": "code",
      "execution_count": null,
      "metadata": {
        "vscode": {
          "languageId": "plaintext"
        },
        "id": "6jkMgYLHGFW2"
      },
      "outputs": [],
      "source": [
        "import pandas as pd\n",
        "\n",
        "import matplotlib.pyplot as plt"
      ]
    },
    {
      "cell_type": "markdown",
      "metadata": {
        "id": "tXeLD9YgGFW2"
      },
      "source": [
        "## Import Data into Dataframe\n",
        "\n",
        "➡️ Assignment Tasks\n",
        "- Import data from the SuperStore retail dataset into a dataframe (in GitHub go to Labs > DataSets)\n",
        "- Describe or profile the dataframe"
      ]
    },
    {
      "cell_type": "markdown",
      "source": [
        "from google.colab import drive\n",
        "drive.mount('/content/gdrive', force_remount=True)\n",
        "\n",
        "df = pd.read_csv (\n",
        "\n",
        "\n",
        "\n",
        "\n",
        "'/content/drive/MyDrive/Colab Notebooks/superstore_retail_orders.csv')\n",
        "\n",
        "print (df)"
      ],
      "metadata": {
        "id": "qPU-uS9DGFW2"
      }
    },
    {
      "cell_type": "code",
      "source": [
        "from google.colab import drive\n",
        "drive.mount('/content/drive')\n",
        "\n",
        "df = pd.read_csv ('/content/drive/MyDrive/Colab Notebooks/superstore_retail_orders.csv')\n",
        "\n",
        "print(df)"
      ],
      "metadata": {
        "id": "7Ztwwpy_GTNv",
        "outputId": "4f4976a1-797a-4670-e391-e6b14b074ac4",
        "colab": {
          "base_uri": "https://localhost:8080/"
        }
      },
      "execution_count": null,
      "outputs": [
        {
          "output_type": "stream",
          "name": "stdout",
          "text": [
            "Drive already mounted at /content/drive; to attempt to forcibly remount, call drive.mount(\"/content/drive\", force_remount=True).\n",
            "      customer_id      customer_name          address_line_1          city  \\\n",
            "0              67      Gordy Matteau     59 Northland Circle    Wilmington   \n",
            "1             201     Cort Paskerful         769 Buell Drive    Huntsville   \n",
            "2              45    Willetta Lumley       41 Ridgeway Alley        Irvine   \n",
            "3             106   Alison Batterton           489 Erie Hill      Richmond   \n",
            "4             357  Martelle Paxeford    451 Manitowish Place      Richmond   \n",
            "...           ...                ...                     ...           ...   \n",
            "9564          637  Jayson Andriessen  0819 Crownhardt Circle     Allentown   \n",
            "9565          370    Darby Tesseyman     7468 Jackson Circle        Albany   \n",
            "9566          598   Henka De Ferrari      89 Sunnyside Drive  Redwood City   \n",
            "9567          737    Tommie Penvarne    9630 Washington Hill     Watertown   \n",
            "9568          482       Matelda Bull      6406 Bultman Alley  Gaithersburg   \n",
            "\n",
            "      state_province  postal_code  order_id  order_date  customer_id.1  \\\n",
            "0                DE       19805.0      1001  2020-01-11             67   \n",
            "1                AL       35810.0      1002  2019-11-22            201   \n",
            "2                CA       92612.0      1003  2019-09-17             45   \n",
            "3                VA       23293.0      1004  2019-12-09            106   \n",
            "4                VA       23293.0      1005  2019-06-08            357   \n",
            "...              ...          ...       ...         ...            ...   \n",
            "9564  Pennsylvania            NaN      8143  2021-06-13            637   \n",
            "9565             NY       12210.0      8144  2021-06-16            370   \n",
            "9566     California       94064.0      8145  2021-05-09            598   \n",
            "9567  Massachusetts        2472.0      8146  2021-04-13            737   \n",
            "9568       Maryland       20883.0      8147  2021-03-21            482   \n",
            "\n",
            "      order_id.1  product_id  quantity  product_id.1            product_name  \\\n",
            "0           1001         106       3.0           106       Great value Juice   \n",
            "1           1002         104       2.0           104                    Desk   \n",
            "2           1003         107       5.0           107          Dove deodorant   \n",
            "3           1004         106       8.0           106       Great value Juice   \n",
            "4           1005         107       7.0           107          Dove deodorant   \n",
            "...          ...         ...       ...           ...                     ...   \n",
            "9564        8143         113      16.0           113          Extension cord   \n",
            "9565        8144         109       1.0           109  Samsung Galaxy Note 10   \n",
            "9566        8145         110       1.0           110         Apple iPad Mini   \n",
            "9567        8146         113       2.0           113          Extension cord   \n",
            "9568        8147         113       5.0           113          Extension cord   \n",
            "\n",
            "     product_price total_amount order_year_month order_month  \n",
            "0            $1.99        $5.97          2020-01    January   \n",
            "1           $85.98      $171.96          2019-11   November   \n",
            "2            $3.99       $19.95          2019-09   September  \n",
            "3            $1.99       $15.92          2019-12   December   \n",
            "4            $3.99       $27.93          2019-06       June   \n",
            "...            ...          ...              ...         ...  \n",
            "9564        $15.59      $249.44          2021-06       June   \n",
            "9565       $749.99      $749.99          2021-06       June   \n",
            "9566       $329.99      $329.99          2021-05        May   \n",
            "9567        $15.59       $31.18          2021-04      April   \n",
            "9568        $15.59       $77.95          2021-03      March   \n",
            "\n",
            "[9569 rows x 18 columns]\n"
          ]
        }
      ]
    },
    {
      "cell_type": "markdown",
      "metadata": {
        "id": "q9UMFOqfGFW2"
      },
      "source": [
        "## Prepare Data\n",
        "\n",
        "➡️ Assignment Tasks\n",
        "- Convert the Total_Amount into a number (not a string)\n",
        "- Remove rows with empty (NULL) values\n",
        "- Optional: Locate outliers in any of the variables.   Filter them out if they are mistakes; keep them if they are exceptional cases."
      ]
    },
    {
      "cell_type": "code",
      "execution_count": null,
      "metadata": {
        "vscode": {
          "languageId": "plaintext"
        },
        "id": "U8LdjSznGFW2",
        "outputId": "ea01b9e4-4840-46ac-e8ce-25240f7eb43b",
        "colab": {
          "base_uri": "https://localhost:8080/"
        }
      },
      "outputs": [
        {
          "output_type": "stream",
          "name": "stdout",
          "text": [
            "      customer_id      customer_name        address_line_1          city  \\\n",
            "0              67      Gordy Matteau   59 Northland Circle    Wilmington   \n",
            "1             201     Cort Paskerful       769 Buell Drive    Huntsville   \n",
            "2              45    Willetta Lumley     41 Ridgeway Alley        Irvine   \n",
            "3             106   Alison Batterton         489 Erie Hill      Richmond   \n",
            "4             357  Martelle Paxeford  451 Manitowish Place      Richmond   \n",
            "...           ...                ...                   ...           ...   \n",
            "9561          240     Barnard Hatley        5541 Kim Alley        Duluth   \n",
            "9565          370    Darby Tesseyman   7468 Jackson Circle        Albany   \n",
            "9566          598   Henka De Ferrari    89 Sunnyside Drive  Redwood City   \n",
            "9567          737    Tommie Penvarne  9630 Washington Hill     Watertown   \n",
            "9568          482       Matelda Bull    6406 Bultman Alley  Gaithersburg   \n",
            "\n",
            "      state_province  postal_code  order_id  order_date  customer_id.1  \\\n",
            "0                DE       19805.0      1001  2020-01-11             67   \n",
            "1                AL       35810.0      1002  2019-11-22            201   \n",
            "2                CA       92612.0      1003  2019-09-17             45   \n",
            "3                VA       23293.0      1004  2019-12-09            106   \n",
            "4                VA       23293.0      1005  2019-06-08            357   \n",
            "...              ...          ...       ...         ...            ...   \n",
            "9561             GA       30195.0      8140  2021-03-04            240   \n",
            "9565             NY       12210.0      8144  2021-06-16            370   \n",
            "9566     California       94064.0      8145  2021-05-09            598   \n",
            "9567  Massachusetts        2472.0      8146  2021-04-13            737   \n",
            "9568       Maryland       20883.0      8147  2021-03-21            482   \n",
            "\n",
            "      order_id.1  product_id  quantity  product_id.1            product_name  \\\n",
            "0           1001         106       3.0           106       Great value Juice   \n",
            "1           1002         104       2.0           104                    Desk   \n",
            "2           1003         107       5.0           107          Dove deodorant   \n",
            "3           1004         106       8.0           106       Great value Juice   \n",
            "4           1005         107       7.0           107          Dove deodorant   \n",
            "...          ...         ...       ...           ...                     ...   \n",
            "9561        8140         110       1.0           110         Apple iPad Mini   \n",
            "9565        8144         109       1.0           109  Samsung Galaxy Note 10   \n",
            "9566        8145         110       1.0           110         Apple iPad Mini   \n",
            "9567        8146         113       2.0           113          Extension cord   \n",
            "9568        8147         113       5.0           113          Extension cord   \n",
            "\n",
            "     product_price  total_amount order_year_month order_month  \n",
            "0            $1.99          5.97          2020-01    January   \n",
            "1           $85.98        171.96          2019-11   November   \n",
            "2            $3.99         19.95          2019-09   September  \n",
            "3            $1.99         15.92          2019-12   December   \n",
            "4            $3.99         27.93          2019-06       June   \n",
            "...            ...           ...              ...         ...  \n",
            "9561       $329.99        329.99          2021-03      March   \n",
            "9565       $749.99        749.99          2021-06       June   \n",
            "9566       $329.99        329.99          2021-05        May   \n",
            "9567        $15.59         31.18          2021-04      April   \n",
            "9568        $15.59         77.95          2021-03      March   \n",
            "\n",
            "[8981 rows x 18 columns]\n"
          ]
        }
      ],
      "source": [
        "df['total_amount'] = pd.to_numeric(df['total_amount'].replace('[\\$,]', '', regex=True), errors='coerce')\n",
        "df['total_amount'] = df['total_amount'].astype(float)\n",
        "df= df.dropna()\n",
        "print (df)"
      ]
    },
    {
      "cell_type": "markdown",
      "metadata": {
        "id": "M8PWWCBBGFW2"
      },
      "source": [
        "## Summarize Data\n",
        "\n",
        "➡️ Assignment Tasks\n",
        "- Display the average price per month\n",
        "- Display the total revenue for all months"
      ]
    },
    {
      "cell_type": "code",
      "execution_count": null,
      "metadata": {
        "vscode": {
          "languageId": "plaintext"
        },
        "id": "pteqFPnlGFW3",
        "outputId": "f564b4a6-e121-4687-ab1b-6e30dd839eaf",
        "colab": {
          "base_uri": "https://localhost:8080/"
        }
      },
      "outputs": [
        {
          "output_type": "stream",
          "name": "stdout",
          "text": [
            "order_year_month\n",
            "2019-02-01    333.95\n",
            "2019-03-01    352.79\n",
            "2019-04-01    373.53\n",
            "2019-05-01    355.37\n",
            "2019-06-01    376.47\n",
            "2019-07-01    322.06\n",
            "2019-08-01    354.60\n",
            "2019-09-01    351.97\n",
            "2019-10-01    389.99\n",
            "2019-11-01    327.68\n",
            "2019-12-01    349.86\n",
            "2020-01-01    318.57\n",
            "2020-02-01    325.12\n",
            "2020-03-01    275.39\n",
            "2020-04-01    324.99\n",
            "2020-05-01    317.19\n",
            "2020-06-01    315.06\n",
            "2020-07-01    324.18\n",
            "2020-08-01    323.24\n",
            "2020-09-01    345.14\n",
            "2020-10-01    338.68\n",
            "2020-11-01    346.38\n",
            "2020-12-01    263.80\n",
            "2021-01-01    293.92\n",
            "2021-02-01    368.73\n",
            "2021-03-01    279.36\n",
            "2021-04-01    332.13\n",
            "2021-05-01    226.77\n",
            "2021-06-01    314.29\n",
            "2021-07-01    197.84\n",
            "2021-08-01    227.45\n",
            "Name: total_amount, dtype: float64\n"
          ]
        }
      ],
      "source": [
        "#average price\n",
        "df['order_year_month'] = pd.to_datetime(df['order_year_month'])\n",
        "avepricepermonth = df.groupby('order_year_month')['total_amount'].mean().round(2)\n",
        "print(avepricepermonth)"
      ]
    },
    {
      "cell_type": "code",
      "execution_count": null,
      "metadata": {
        "vscode": {
          "languageId": "plaintext"
        },
        "id": "WERjE9AWGFW3",
        "outputId": "ab3ee268-5dda-4cd6-e563-47b3276c1119",
        "colab": {
          "base_uri": "https://localhost:8080/"
        }
      },
      "outputs": [
        {
          "output_type": "stream",
          "name": "stdout",
          "text": [
            "order_year_month\n",
            "2019-02-01     63785.07\n",
            "2019-03-01    210261.46\n",
            "2019-04-01    239062.11\n",
            "2019-05-01    231703.01\n",
            "2019-06-01    242822.69\n",
            "2019-07-01    203543.83\n",
            "2019-08-01    230135.80\n",
            "2019-09-01    198513.63\n",
            "2019-10-01    238674.58\n",
            "2019-11-01    208079.16\n",
            "2019-12-01    219359.45\n",
            "2020-01-01    180312.31\n",
            "2020-02-01    135898.78\n",
            "2020-03-01     32771.50\n",
            "2020-04-01     52323.70\n",
            "2020-05-01     51701.74\n",
            "2020-06-01     41903.60\n",
            "2020-07-01     37281.10\n",
            "2020-08-01     48808.88\n",
            "2020-09-01     45558.78\n",
            "2020-10-01     39963.98\n",
            "2020-11-01     43643.86\n",
            "2020-12-01     32974.41\n",
            "2021-01-01     41149.47\n",
            "2021-02-01      1106.19\n",
            "2021-03-01      3352.33\n",
            "2021-04-01      4649.84\n",
            "2021-05-01      2948.02\n",
            "2021-06-01      3457.14\n",
            "2021-07-01      2374.08\n",
            "2021-08-01      1364.69\n",
            "Name: total_amount, dtype: float64\n"
          ]
        }
      ],
      "source": [
        "#total revenue\n",
        "\n",
        "df['order_year_month'] = pd.to_datetime(df['order_year_month'])\n",
        "\n",
        "\n",
        "avepricepermonth = df.groupby('order_year_month')['total_amount'].sum()\n",
        "print(avepricepermonth)"
      ]
    },
    {
      "cell_type": "code",
      "source": [],
      "metadata": {
        "id": "qP2UC9SYNp7L"
      },
      "execution_count": null,
      "outputs": []
    }
  ],
  "metadata": {
    "language_info": {
      "name": "python"
    },
    "colab": {
      "provenance": [],
      "include_colab_link": true
    },
    "kernelspec": {
      "name": "python3",
      "display_name": "Python 3"
    }
  },
  "nbformat": 4,
  "nbformat_minor": 0
}